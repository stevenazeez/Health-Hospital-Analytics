{
  "nbformat": 4,
  "nbformat_minor": 0,
  "metadata": {
    "colab": {
      "name": "Untitled3.ipynb",
      "provenance": [],
      "authorship_tag": "ABX9TyOVCphUC2++ObX5vzjRnG66",
      "include_colab_link": true
    },
    "kernelspec": {
      "display_name": "Python 3",
      "name": "python3"
    },
    "language_info": {
      "name": "python"
    }
  },
  "cells": [
    {
      "cell_type": "markdown",
      "metadata": {
        "id": "view-in-github",
        "colab_type": "text"
      },
      "source": [
        "<a href=\"https://colab.research.google.com/github/stevenazeez/Health-Hospital-Analytics/blob/main/Health%20Hospital%20Analytics.ipynb\" target=\"_parent\"><img src=\"https://colab.research.google.com/assets/colab-badge.svg\" alt=\"Open In Colab\"/></a>"
      ]
    },
    {
      "cell_type": "markdown",
      "metadata": {
        "id": "Myf5HltBpUxI"
      },
      "source": [
        "*Welcome!*"
      ]
    },
    {
      "cell_type": "markdown",
      "metadata": {
        "id": "C1z0iC__nJAt"
      },
      "source": [
        "#**Health Hospital Analytics**"
      ]
    },
    {
      "cell_type": "markdown",
      "metadata": {
        "id": "KfCIcSZITIYK"
      },
      "source": [
        "This project uses analytics to predict the length of stay for each patient. It aims to improve hospital efficiency and reduce costs.\n",
        ">Let's Begin!"
      ]
    },
    {
      "cell_type": "markdown",
      "metadata": {
        "id": "dNneY4mgT_92"
      },
      "source": [
        "**Importing Libaries**"
      ]
    },
    {
      "cell_type": "code",
      "metadata": {
        "id": "Vj4SI63apR4i"
      },
      "source": [
        "import numpy as np\n",
        "import pandas as pd\n",
        "import matplotlib.pyplot as plt\n",
        "import warnings\n",
        "warnings.filterwarnings('ignore')"
      ],
      "execution_count": 3,
      "outputs": []
    },
    {
      "cell_type": "markdown",
      "metadata": {
        "id": "zkcaGjAVTGxD"
      },
      "source": [
        "**Getting Data**"
      ]
    },
    {
      "cell_type": "code",
      "metadata": {
        "id": "ZJPkFUyMUhof"
      },
      "source": [
        "train = pd.read_csv('train_data.csv')\n",
        "test = pd.read_csv('test_data.csv')"
      ],
      "execution_count": 4,
      "outputs": []
    },
    {
      "cell_type": "markdown",
      "metadata": {
        "id": "VEVdHl4CWjYz"
      },
      "source": [
        "## **Exploratory Data Analysis**"
      ]
    },
    {
      "cell_type": "markdown",
      "metadata": {
        "id": "abMsz1Hec2JZ"
      },
      "source": [
        "> Let's get a quick look of the data\n",
        "\n",
        "\n"
      ]
    },
    {
      "cell_type": "code",
      "metadata": {
        "colab": {
          "base_uri": "https://localhost:8080/"
        },
        "id": "i0K2dIFBWr9j",
        "outputId": "276f8dcc-71bf-4321-bf60-75b55e8f5273"
      },
      "source": [
        "train.info()"
      ],
      "execution_count": 5,
      "outputs": [
        {
          "output_type": "stream",
          "name": "stdout",
          "text": [
            "<class 'pandas.core.frame.DataFrame'>\n",
            "RangeIndex: 318438 entries, 0 to 318437\n",
            "Data columns (total 18 columns):\n",
            " #   Column                             Non-Null Count   Dtype  \n",
            "---  ------                             --------------   -----  \n",
            " 0   case_id                            318438 non-null  int64  \n",
            " 1   Hospital_code                      318438 non-null  int64  \n",
            " 2   Hospital_type_code                 318438 non-null  object \n",
            " 3   City_Code_Hospital                 318438 non-null  int64  \n",
            " 4   Hospital_region_code               318438 non-null  object \n",
            " 5   Available Extra Rooms in Hospital  318438 non-null  int64  \n",
            " 6   Department                         318438 non-null  object \n",
            " 7   Ward_Type                          318438 non-null  object \n",
            " 8   Ward_Facility_Code                 318438 non-null  object \n",
            " 9   Bed Grade                          318325 non-null  float64\n",
            " 10  patientid                          318438 non-null  int64  \n",
            " 11  City_Code_Patient                  313906 non-null  float64\n",
            " 12  Type of Admission                  318438 non-null  object \n",
            " 13  Severity of Illness                318438 non-null  object \n",
            " 14  Visitors with Patient              318438 non-null  int64  \n",
            " 15  Age                                318438 non-null  object \n",
            " 16  Admission_Deposit                  318438 non-null  float64\n",
            " 17  Stay                               318438 non-null  object \n",
            "dtypes: float64(3), int64(6), object(9)\n",
            "memory usage: 43.7+ MB\n"
          ]
        }
      ]
    },
    {
      "cell_type": "code",
      "metadata": {
        "colab": {
          "base_uri": "https://localhost:8080/"
        },
        "id": "uX1pz_Z3hjYL",
        "outputId": "b6af4d9c-477e-4f2c-8492-7561f1f6949f"
      },
      "source": [
        "# Number of distinct observations in test dataset\n",
        "for i in test.columns:\n",
        "    print(i, ':', test[i].nunique())"
      ],
      "execution_count": 6,
      "outputs": [
        {
          "output_type": "stream",
          "name": "stdout",
          "text": [
            "case_id : 137057\n",
            "Hospital_code : 32\n",
            "Hospital_type_code : 7\n",
            "City_Code_Hospital : 11\n",
            "Hospital_region_code : 3\n",
            "Available Extra Rooms in Hospital : 15\n",
            "Department : 5\n",
            "Ward_Type : 6\n",
            "Ward_Facility_Code : 6\n",
            "Bed Grade : 4\n",
            "patientid : 39607\n",
            "City_Code_Patient : 37\n",
            "Type of Admission : 3\n",
            "Severity of Illness : 3\n",
            "Visitors with Patient : 27\n",
            "Age : 10\n",
            "Admission_Deposit : 6609\n"
          ]
        }
      ]
    },
    {
      "cell_type": "markdown",
      "metadata": {
        "id": "-ECcyYf8c0TE"
      },
      "source": [
        "### **Data Cleansing**\n",
        ">Filtering the null values"
      ]
    },
    {
      "cell_type": "code",
      "metadata": {
        "colab": {
          "base_uri": "https://localhost:8080/"
        },
        "id": "0m2OMlAyeP3t",
        "outputId": "4a8ad9f0-3029-4034-906b-9176c943baca"
      },
      "source": [
        "train.isnull().sum().sort_values(ascending = False)"
      ],
      "execution_count": 7,
      "outputs": [
        {
          "output_type": "execute_result",
          "data": {
            "text/plain": [
              "City_Code_Patient                    4532\n",
              "Bed Grade                             113\n",
              "Stay                                    0\n",
              "Ward_Type                               0\n",
              "Hospital_code                           0\n",
              "Hospital_type_code                      0\n",
              "City_Code_Hospital                      0\n",
              "Hospital_region_code                    0\n",
              "Available Extra Rooms in Hospital       0\n",
              "Department                              0\n",
              "Ward_Facility_Code                      0\n",
              "Admission_Deposit                       0\n",
              "patientid                               0\n",
              "Type of Admission                       0\n",
              "Severity of Illness                     0\n",
              "Visitors with Patient                   0\n",
              "Age                                     0\n",
              "case_id                                 0\n",
              "dtype: int64"
            ]
          },
          "metadata": {},
          "execution_count": 7
        }
      ]
    },
    {
      "cell_type": "code",
      "metadata": {
        "id": "-NhW0YkViQvJ"
      },
      "source": [
        "#Replacing Null values in Bed Grade Column for both Train dataset\n",
        "train['Bed Grade'].fillna(train['Bed Grade'].mode()[0], inplace = True)\n",
        "\n",
        "#Replacing Null values in City Code Patient Column for both Train dataset\n",
        "train['City_Code_Patient'].fillna(train['City_Code_Patient'].mode()[0], inplace = True)"
      ],
      "execution_count": 8,
      "outputs": []
    },
    {
      "cell_type": "code",
      "metadata": {
        "colab": {
          "base_uri": "https://localhost:8080/"
        },
        "id": "GKFIXI4vee8A",
        "outputId": "f2460dea-851a-47af-876f-5eea8f547324"
      },
      "source": [
        "test.isnull().sum().sort_values(ascending = False)"
      ],
      "execution_count": 9,
      "outputs": [
        {
          "output_type": "execute_result",
          "data": {
            "text/plain": [
              "City_Code_Patient                    2157\n",
              "Bed Grade                              35\n",
              "Admission_Deposit                       0\n",
              "Department                              0\n",
              "Hospital_code                           0\n",
              "Hospital_type_code                      0\n",
              "City_Code_Hospital                      0\n",
              "Hospital_region_code                    0\n",
              "Available Extra Rooms in Hospital       0\n",
              "Ward_Facility_Code                      0\n",
              "Ward_Type                               0\n",
              "Age                                     0\n",
              "patientid                               0\n",
              "Type of Admission                       0\n",
              "Severity of Illness                     0\n",
              "Visitors with Patient                   0\n",
              "case_id                                 0\n",
              "dtype: int64"
            ]
          },
          "metadata": {},
          "execution_count": 9
        }
      ]
    },
    {
      "cell_type": "code",
      "metadata": {
        "id": "qZWyohFLia99"
      },
      "source": [
        "#Replacing Null values in Bed Grade Column for both Test dataset\n",
        "test['Bed Grade'].fillna(test['Bed Grade'].mode()[0], inplace = True)\n",
        "\n",
        "#Replacing NA values in City Code Patient Column for both Train dataset\n",
        "test['City_Code_Patient'].fillna(test['City_Code_Patient'].mode()[0], inplace = True)"
      ],
      "execution_count": 10,
      "outputs": []
    },
    {
      "cell_type": "code",
      "metadata": {
        "colab": {
          "base_uri": "https://localhost:8080/"
        },
        "id": "8boLTi3venOR",
        "outputId": "6e05c8bb-542d-4d4f-fbb9-03e2ee61b930"
      },
      "source": [
        "train.shape"
      ],
      "execution_count": 11,
      "outputs": [
        {
          "output_type": "execute_result",
          "data": {
            "text/plain": [
              "(318438, 18)"
            ]
          },
          "metadata": {},
          "execution_count": 11
        }
      ]
    },
    {
      "cell_type": "code",
      "metadata": {
        "colab": {
          "base_uri": "https://localhost:8080/"
        },
        "id": "S0CsfnAMeocd",
        "outputId": "acae03cd-c4f2-4d6f-cfbc-a57397dcd757"
      },
      "source": [
        "test.shape"
      ],
      "execution_count": 12,
      "outputs": [
        {
          "output_type": "execute_result",
          "data": {
            "text/plain": [
              "(137057, 17)"
            ]
          },
          "metadata": {},
          "execution_count": 12
        }
      ]
    },
    {
      "cell_type": "code",
      "metadata": {
        "colab": {
          "base_uri": "https://localhost:8080/",
          "height": 360
        },
        "id": "MEN7eV7jhIqX",
        "outputId": "b8ff275f-c292-40e0-f1eb-8e818d2fceef"
      },
      "source": [
        "train.head()"
      ],
      "execution_count": 13,
      "outputs": [
        {
          "output_type": "execute_result",
          "data": {
            "text/html": [
              "<div>\n",
              "<style scoped>\n",
              "    .dataframe tbody tr th:only-of-type {\n",
              "        vertical-align: middle;\n",
              "    }\n",
              "\n",
              "    .dataframe tbody tr th {\n",
              "        vertical-align: top;\n",
              "    }\n",
              "\n",
              "    .dataframe thead th {\n",
              "        text-align: right;\n",
              "    }\n",
              "</style>\n",
              "<table border=\"1\" class=\"dataframe\">\n",
              "  <thead>\n",
              "    <tr style=\"text-align: right;\">\n",
              "      <th></th>\n",
              "      <th>case_id</th>\n",
              "      <th>Hospital_code</th>\n",
              "      <th>Hospital_type_code</th>\n",
              "      <th>City_Code_Hospital</th>\n",
              "      <th>Hospital_region_code</th>\n",
              "      <th>Available Extra Rooms in Hospital</th>\n",
              "      <th>Department</th>\n",
              "      <th>Ward_Type</th>\n",
              "      <th>Ward_Facility_Code</th>\n",
              "      <th>Bed Grade</th>\n",
              "      <th>patientid</th>\n",
              "      <th>City_Code_Patient</th>\n",
              "      <th>Type of Admission</th>\n",
              "      <th>Severity of Illness</th>\n",
              "      <th>Visitors with Patient</th>\n",
              "      <th>Age</th>\n",
              "      <th>Admission_Deposit</th>\n",
              "      <th>Stay</th>\n",
              "    </tr>\n",
              "  </thead>\n",
              "  <tbody>\n",
              "    <tr>\n",
              "      <th>0</th>\n",
              "      <td>1</td>\n",
              "      <td>8</td>\n",
              "      <td>c</td>\n",
              "      <td>3</td>\n",
              "      <td>Z</td>\n",
              "      <td>3</td>\n",
              "      <td>radiotherapy</td>\n",
              "      <td>R</td>\n",
              "      <td>F</td>\n",
              "      <td>2.0</td>\n",
              "      <td>31397</td>\n",
              "      <td>7.0</td>\n",
              "      <td>Emergency</td>\n",
              "      <td>Extreme</td>\n",
              "      <td>2</td>\n",
              "      <td>51-60</td>\n",
              "      <td>4911.0</td>\n",
              "      <td>0-10</td>\n",
              "    </tr>\n",
              "    <tr>\n",
              "      <th>1</th>\n",
              "      <td>2</td>\n",
              "      <td>2</td>\n",
              "      <td>c</td>\n",
              "      <td>5</td>\n",
              "      <td>Z</td>\n",
              "      <td>2</td>\n",
              "      <td>radiotherapy</td>\n",
              "      <td>S</td>\n",
              "      <td>F</td>\n",
              "      <td>2.0</td>\n",
              "      <td>31397</td>\n",
              "      <td>7.0</td>\n",
              "      <td>Trauma</td>\n",
              "      <td>Extreme</td>\n",
              "      <td>2</td>\n",
              "      <td>51-60</td>\n",
              "      <td>5954.0</td>\n",
              "      <td>41-50</td>\n",
              "    </tr>\n",
              "    <tr>\n",
              "      <th>2</th>\n",
              "      <td>3</td>\n",
              "      <td>10</td>\n",
              "      <td>e</td>\n",
              "      <td>1</td>\n",
              "      <td>X</td>\n",
              "      <td>2</td>\n",
              "      <td>anesthesia</td>\n",
              "      <td>S</td>\n",
              "      <td>E</td>\n",
              "      <td>2.0</td>\n",
              "      <td>31397</td>\n",
              "      <td>7.0</td>\n",
              "      <td>Trauma</td>\n",
              "      <td>Extreme</td>\n",
              "      <td>2</td>\n",
              "      <td>51-60</td>\n",
              "      <td>4745.0</td>\n",
              "      <td>31-40</td>\n",
              "    </tr>\n",
              "    <tr>\n",
              "      <th>3</th>\n",
              "      <td>4</td>\n",
              "      <td>26</td>\n",
              "      <td>b</td>\n",
              "      <td>2</td>\n",
              "      <td>Y</td>\n",
              "      <td>2</td>\n",
              "      <td>radiotherapy</td>\n",
              "      <td>R</td>\n",
              "      <td>D</td>\n",
              "      <td>2.0</td>\n",
              "      <td>31397</td>\n",
              "      <td>7.0</td>\n",
              "      <td>Trauma</td>\n",
              "      <td>Extreme</td>\n",
              "      <td>2</td>\n",
              "      <td>51-60</td>\n",
              "      <td>7272.0</td>\n",
              "      <td>41-50</td>\n",
              "    </tr>\n",
              "    <tr>\n",
              "      <th>4</th>\n",
              "      <td>5</td>\n",
              "      <td>26</td>\n",
              "      <td>b</td>\n",
              "      <td>2</td>\n",
              "      <td>Y</td>\n",
              "      <td>2</td>\n",
              "      <td>radiotherapy</td>\n",
              "      <td>S</td>\n",
              "      <td>D</td>\n",
              "      <td>2.0</td>\n",
              "      <td>31397</td>\n",
              "      <td>7.0</td>\n",
              "      <td>Trauma</td>\n",
              "      <td>Extreme</td>\n",
              "      <td>2</td>\n",
              "      <td>51-60</td>\n",
              "      <td>5558.0</td>\n",
              "      <td>41-50</td>\n",
              "    </tr>\n",
              "  </tbody>\n",
              "</table>\n",
              "</div>"
            ],
            "text/plain": [
              "   case_id  Hospital_code Hospital_type_code  ...    Age Admission_Deposit   Stay\n",
              "0        1              8                  c  ...  51-60            4911.0   0-10\n",
              "1        2              2                  c  ...  51-60            5954.0  41-50\n",
              "2        3             10                  e  ...  51-60            4745.0  31-40\n",
              "3        4             26                  b  ...  51-60            7272.0  41-50\n",
              "4        5             26                  b  ...  51-60            5558.0  41-50\n",
              "\n",
              "[5 rows x 18 columns]"
            ]
          },
          "metadata": {},
          "execution_count": 13
        }
      ]
    },
    {
      "cell_type": "code",
      "metadata": {
        "colab": {
          "base_uri": "https://localhost:8080/",
          "height": 360
        },
        "id": "pC2Gvg6NmrTF",
        "outputId": "a20025a5-2f05-4407-cb97-6aa499efb520"
      },
      "source": [
        "test.head()"
      ],
      "execution_count": 14,
      "outputs": [
        {
          "output_type": "execute_result",
          "data": {
            "text/html": [
              "<div>\n",
              "<style scoped>\n",
              "    .dataframe tbody tr th:only-of-type {\n",
              "        vertical-align: middle;\n",
              "    }\n",
              "\n",
              "    .dataframe tbody tr th {\n",
              "        vertical-align: top;\n",
              "    }\n",
              "\n",
              "    .dataframe thead th {\n",
              "        text-align: right;\n",
              "    }\n",
              "</style>\n",
              "<table border=\"1\" class=\"dataframe\">\n",
              "  <thead>\n",
              "    <tr style=\"text-align: right;\">\n",
              "      <th></th>\n",
              "      <th>case_id</th>\n",
              "      <th>Hospital_code</th>\n",
              "      <th>Hospital_type_code</th>\n",
              "      <th>City_Code_Hospital</th>\n",
              "      <th>Hospital_region_code</th>\n",
              "      <th>Available Extra Rooms in Hospital</th>\n",
              "      <th>Department</th>\n",
              "      <th>Ward_Type</th>\n",
              "      <th>Ward_Facility_Code</th>\n",
              "      <th>Bed Grade</th>\n",
              "      <th>patientid</th>\n",
              "      <th>City_Code_Patient</th>\n",
              "      <th>Type of Admission</th>\n",
              "      <th>Severity of Illness</th>\n",
              "      <th>Visitors with Patient</th>\n",
              "      <th>Age</th>\n",
              "      <th>Admission_Deposit</th>\n",
              "    </tr>\n",
              "  </thead>\n",
              "  <tbody>\n",
              "    <tr>\n",
              "      <th>0</th>\n",
              "      <td>318439</td>\n",
              "      <td>21</td>\n",
              "      <td>c</td>\n",
              "      <td>3</td>\n",
              "      <td>Z</td>\n",
              "      <td>3</td>\n",
              "      <td>gynecology</td>\n",
              "      <td>S</td>\n",
              "      <td>A</td>\n",
              "      <td>2.0</td>\n",
              "      <td>17006</td>\n",
              "      <td>2.0</td>\n",
              "      <td>Emergency</td>\n",
              "      <td>Moderate</td>\n",
              "      <td>2</td>\n",
              "      <td>71-80</td>\n",
              "      <td>3095.0</td>\n",
              "    </tr>\n",
              "    <tr>\n",
              "      <th>1</th>\n",
              "      <td>318440</td>\n",
              "      <td>29</td>\n",
              "      <td>a</td>\n",
              "      <td>4</td>\n",
              "      <td>X</td>\n",
              "      <td>2</td>\n",
              "      <td>gynecology</td>\n",
              "      <td>S</td>\n",
              "      <td>F</td>\n",
              "      <td>2.0</td>\n",
              "      <td>17006</td>\n",
              "      <td>2.0</td>\n",
              "      <td>Trauma</td>\n",
              "      <td>Moderate</td>\n",
              "      <td>4</td>\n",
              "      <td>71-80</td>\n",
              "      <td>4018.0</td>\n",
              "    </tr>\n",
              "    <tr>\n",
              "      <th>2</th>\n",
              "      <td>318441</td>\n",
              "      <td>26</td>\n",
              "      <td>b</td>\n",
              "      <td>2</td>\n",
              "      <td>Y</td>\n",
              "      <td>3</td>\n",
              "      <td>gynecology</td>\n",
              "      <td>Q</td>\n",
              "      <td>D</td>\n",
              "      <td>4.0</td>\n",
              "      <td>17006</td>\n",
              "      <td>2.0</td>\n",
              "      <td>Emergency</td>\n",
              "      <td>Moderate</td>\n",
              "      <td>3</td>\n",
              "      <td>71-80</td>\n",
              "      <td>4492.0</td>\n",
              "    </tr>\n",
              "    <tr>\n",
              "      <th>3</th>\n",
              "      <td>318442</td>\n",
              "      <td>6</td>\n",
              "      <td>a</td>\n",
              "      <td>6</td>\n",
              "      <td>X</td>\n",
              "      <td>3</td>\n",
              "      <td>gynecology</td>\n",
              "      <td>Q</td>\n",
              "      <td>F</td>\n",
              "      <td>2.0</td>\n",
              "      <td>17006</td>\n",
              "      <td>2.0</td>\n",
              "      <td>Trauma</td>\n",
              "      <td>Moderate</td>\n",
              "      <td>3</td>\n",
              "      <td>71-80</td>\n",
              "      <td>4173.0</td>\n",
              "    </tr>\n",
              "    <tr>\n",
              "      <th>4</th>\n",
              "      <td>318443</td>\n",
              "      <td>28</td>\n",
              "      <td>b</td>\n",
              "      <td>11</td>\n",
              "      <td>X</td>\n",
              "      <td>2</td>\n",
              "      <td>gynecology</td>\n",
              "      <td>R</td>\n",
              "      <td>F</td>\n",
              "      <td>2.0</td>\n",
              "      <td>17006</td>\n",
              "      <td>2.0</td>\n",
              "      <td>Trauma</td>\n",
              "      <td>Moderate</td>\n",
              "      <td>4</td>\n",
              "      <td>71-80</td>\n",
              "      <td>4161.0</td>\n",
              "    </tr>\n",
              "  </tbody>\n",
              "</table>\n",
              "</div>"
            ],
            "text/plain": [
              "   case_id  Hospital_code  ...    Age  Admission_Deposit\n",
              "0   318439             21  ...  71-80             3095.0\n",
              "1   318440             29  ...  71-80             4018.0\n",
              "2   318441             26  ...  71-80             4492.0\n",
              "3   318442              6  ...  71-80             4173.0\n",
              "4   318443             28  ...  71-80             4161.0\n",
              "\n",
              "[5 rows x 17 columns]"
            ]
          },
          "metadata": {},
          "execution_count": 14
        }
      ]
    },
    {
      "cell_type": "code",
      "metadata": {
        "id": "eeiNJLu5m1-x"
      },
      "source": [
        "# Label Encoding Stay column in train dataset to numeric\n",
        "from sklearn import preprocessing\n",
        "lencoder = preprocessing.LabelEncoder()\n",
        "\n",
        "train['Stay'] = lencoder.fit_transform(train['Stay'].astype('str'))"
      ],
      "execution_count": 15,
      "outputs": []
    },
    {
      "cell_type": "code",
      "metadata": {
        "colab": {
          "base_uri": "https://localhost:8080/",
          "height": 360
        },
        "id": "SoSs0VqVxDib",
        "outputId": "1414d0b3-c34c-4712-d5fe-7202316fa1f9"
      },
      "source": [
        "train.head()"
      ],
      "execution_count": 16,
      "outputs": [
        {
          "output_type": "execute_result",
          "data": {
            "text/html": [
              "<div>\n",
              "<style scoped>\n",
              "    .dataframe tbody tr th:only-of-type {\n",
              "        vertical-align: middle;\n",
              "    }\n",
              "\n",
              "    .dataframe tbody tr th {\n",
              "        vertical-align: top;\n",
              "    }\n",
              "\n",
              "    .dataframe thead th {\n",
              "        text-align: right;\n",
              "    }\n",
              "</style>\n",
              "<table border=\"1\" class=\"dataframe\">\n",
              "  <thead>\n",
              "    <tr style=\"text-align: right;\">\n",
              "      <th></th>\n",
              "      <th>case_id</th>\n",
              "      <th>Hospital_code</th>\n",
              "      <th>Hospital_type_code</th>\n",
              "      <th>City_Code_Hospital</th>\n",
              "      <th>Hospital_region_code</th>\n",
              "      <th>Available Extra Rooms in Hospital</th>\n",
              "      <th>Department</th>\n",
              "      <th>Ward_Type</th>\n",
              "      <th>Ward_Facility_Code</th>\n",
              "      <th>Bed Grade</th>\n",
              "      <th>patientid</th>\n",
              "      <th>City_Code_Patient</th>\n",
              "      <th>Type of Admission</th>\n",
              "      <th>Severity of Illness</th>\n",
              "      <th>Visitors with Patient</th>\n",
              "      <th>Age</th>\n",
              "      <th>Admission_Deposit</th>\n",
              "      <th>Stay</th>\n",
              "    </tr>\n",
              "  </thead>\n",
              "  <tbody>\n",
              "    <tr>\n",
              "      <th>0</th>\n",
              "      <td>1</td>\n",
              "      <td>8</td>\n",
              "      <td>c</td>\n",
              "      <td>3</td>\n",
              "      <td>Z</td>\n",
              "      <td>3</td>\n",
              "      <td>radiotherapy</td>\n",
              "      <td>R</td>\n",
              "      <td>F</td>\n",
              "      <td>2.0</td>\n",
              "      <td>31397</td>\n",
              "      <td>7.0</td>\n",
              "      <td>Emergency</td>\n",
              "      <td>Extreme</td>\n",
              "      <td>2</td>\n",
              "      <td>51-60</td>\n",
              "      <td>4911.0</td>\n",
              "      <td>0</td>\n",
              "    </tr>\n",
              "    <tr>\n",
              "      <th>1</th>\n",
              "      <td>2</td>\n",
              "      <td>2</td>\n",
              "      <td>c</td>\n",
              "      <td>5</td>\n",
              "      <td>Z</td>\n",
              "      <td>2</td>\n",
              "      <td>radiotherapy</td>\n",
              "      <td>S</td>\n",
              "      <td>F</td>\n",
              "      <td>2.0</td>\n",
              "      <td>31397</td>\n",
              "      <td>7.0</td>\n",
              "      <td>Trauma</td>\n",
              "      <td>Extreme</td>\n",
              "      <td>2</td>\n",
              "      <td>51-60</td>\n",
              "      <td>5954.0</td>\n",
              "      <td>4</td>\n",
              "    </tr>\n",
              "    <tr>\n",
              "      <th>2</th>\n",
              "      <td>3</td>\n",
              "      <td>10</td>\n",
              "      <td>e</td>\n",
              "      <td>1</td>\n",
              "      <td>X</td>\n",
              "      <td>2</td>\n",
              "      <td>anesthesia</td>\n",
              "      <td>S</td>\n",
              "      <td>E</td>\n",
              "      <td>2.0</td>\n",
              "      <td>31397</td>\n",
              "      <td>7.0</td>\n",
              "      <td>Trauma</td>\n",
              "      <td>Extreme</td>\n",
              "      <td>2</td>\n",
              "      <td>51-60</td>\n",
              "      <td>4745.0</td>\n",
              "      <td>3</td>\n",
              "    </tr>\n",
              "    <tr>\n",
              "      <th>3</th>\n",
              "      <td>4</td>\n",
              "      <td>26</td>\n",
              "      <td>b</td>\n",
              "      <td>2</td>\n",
              "      <td>Y</td>\n",
              "      <td>2</td>\n",
              "      <td>radiotherapy</td>\n",
              "      <td>R</td>\n",
              "      <td>D</td>\n",
              "      <td>2.0</td>\n",
              "      <td>31397</td>\n",
              "      <td>7.0</td>\n",
              "      <td>Trauma</td>\n",
              "      <td>Extreme</td>\n",
              "      <td>2</td>\n",
              "      <td>51-60</td>\n",
              "      <td>7272.0</td>\n",
              "      <td>4</td>\n",
              "    </tr>\n",
              "    <tr>\n",
              "      <th>4</th>\n",
              "      <td>5</td>\n",
              "      <td>26</td>\n",
              "      <td>b</td>\n",
              "      <td>2</td>\n",
              "      <td>Y</td>\n",
              "      <td>2</td>\n",
              "      <td>radiotherapy</td>\n",
              "      <td>S</td>\n",
              "      <td>D</td>\n",
              "      <td>2.0</td>\n",
              "      <td>31397</td>\n",
              "      <td>7.0</td>\n",
              "      <td>Trauma</td>\n",
              "      <td>Extreme</td>\n",
              "      <td>2</td>\n",
              "      <td>51-60</td>\n",
              "      <td>5558.0</td>\n",
              "      <td>4</td>\n",
              "    </tr>\n",
              "  </tbody>\n",
              "</table>\n",
              "</div>"
            ],
            "text/plain": [
              "   case_id  Hospital_code Hospital_type_code  ...    Age Admission_Deposit  Stay\n",
              "0        1              8                  c  ...  51-60            4911.0     0\n",
              "1        2              2                  c  ...  51-60            5954.0     4\n",
              "2        3             10                  e  ...  51-60            4745.0     3\n",
              "3        4             26                  b  ...  51-60            7272.0     4\n",
              "4        5             26                  b  ...  51-60            5558.0     4\n",
              "\n",
              "[5 rows x 18 columns]"
            ]
          },
          "metadata": {},
          "execution_count": 16
        }
      ]
    },
    {
      "cell_type": "code",
      "metadata": {
        "id": "DBicjLI7x8OI"
      },
      "source": [
        "#Imputing dummy Stay column in test dataset  \n",
        "test['Stay'] = -1"
      ],
      "execution_count": 17,
      "outputs": []
    },
    {
      "cell_type": "code",
      "metadata": {
        "id": "g5uVHRMH-mgO"
      },
      "source": [
        "#concatenate test with train dataset\n",
        "data_concat = pd.concat([train, test])                                                                          "
      ],
      "execution_count": 18,
      "outputs": []
    },
    {
      "cell_type": "code",
      "metadata": {
        "colab": {
          "base_uri": "https://localhost:8080/",
          "height": 360
        },
        "id": "7k5lQMEQ4GvT",
        "outputId": "43c6e667-d9d6-4eb2-c1b9-1e0168d981bb"
      },
      "source": [
        "data_concat.head()"
      ],
      "execution_count": 19,
      "outputs": [
        {
          "output_type": "execute_result",
          "data": {
            "text/html": [
              "<div>\n",
              "<style scoped>\n",
              "    .dataframe tbody tr th:only-of-type {\n",
              "        vertical-align: middle;\n",
              "    }\n",
              "\n",
              "    .dataframe tbody tr th {\n",
              "        vertical-align: top;\n",
              "    }\n",
              "\n",
              "    .dataframe thead th {\n",
              "        text-align: right;\n",
              "    }\n",
              "</style>\n",
              "<table border=\"1\" class=\"dataframe\">\n",
              "  <thead>\n",
              "    <tr style=\"text-align: right;\">\n",
              "      <th></th>\n",
              "      <th>case_id</th>\n",
              "      <th>Hospital_code</th>\n",
              "      <th>Hospital_type_code</th>\n",
              "      <th>City_Code_Hospital</th>\n",
              "      <th>Hospital_region_code</th>\n",
              "      <th>Available Extra Rooms in Hospital</th>\n",
              "      <th>Department</th>\n",
              "      <th>Ward_Type</th>\n",
              "      <th>Ward_Facility_Code</th>\n",
              "      <th>Bed Grade</th>\n",
              "      <th>patientid</th>\n",
              "      <th>City_Code_Patient</th>\n",
              "      <th>Type of Admission</th>\n",
              "      <th>Severity of Illness</th>\n",
              "      <th>Visitors with Patient</th>\n",
              "      <th>Age</th>\n",
              "      <th>Admission_Deposit</th>\n",
              "      <th>Stay</th>\n",
              "    </tr>\n",
              "  </thead>\n",
              "  <tbody>\n",
              "    <tr>\n",
              "      <th>0</th>\n",
              "      <td>1</td>\n",
              "      <td>8</td>\n",
              "      <td>c</td>\n",
              "      <td>3</td>\n",
              "      <td>Z</td>\n",
              "      <td>3</td>\n",
              "      <td>radiotherapy</td>\n",
              "      <td>R</td>\n",
              "      <td>F</td>\n",
              "      <td>2.0</td>\n",
              "      <td>31397</td>\n",
              "      <td>7.0</td>\n",
              "      <td>Emergency</td>\n",
              "      <td>Extreme</td>\n",
              "      <td>2</td>\n",
              "      <td>51-60</td>\n",
              "      <td>4911.0</td>\n",
              "      <td>0</td>\n",
              "    </tr>\n",
              "    <tr>\n",
              "      <th>1</th>\n",
              "      <td>2</td>\n",
              "      <td>2</td>\n",
              "      <td>c</td>\n",
              "      <td>5</td>\n",
              "      <td>Z</td>\n",
              "      <td>2</td>\n",
              "      <td>radiotherapy</td>\n",
              "      <td>S</td>\n",
              "      <td>F</td>\n",
              "      <td>2.0</td>\n",
              "      <td>31397</td>\n",
              "      <td>7.0</td>\n",
              "      <td>Trauma</td>\n",
              "      <td>Extreme</td>\n",
              "      <td>2</td>\n",
              "      <td>51-60</td>\n",
              "      <td>5954.0</td>\n",
              "      <td>4</td>\n",
              "    </tr>\n",
              "    <tr>\n",
              "      <th>2</th>\n",
              "      <td>3</td>\n",
              "      <td>10</td>\n",
              "      <td>e</td>\n",
              "      <td>1</td>\n",
              "      <td>X</td>\n",
              "      <td>2</td>\n",
              "      <td>anesthesia</td>\n",
              "      <td>S</td>\n",
              "      <td>E</td>\n",
              "      <td>2.0</td>\n",
              "      <td>31397</td>\n",
              "      <td>7.0</td>\n",
              "      <td>Trauma</td>\n",
              "      <td>Extreme</td>\n",
              "      <td>2</td>\n",
              "      <td>51-60</td>\n",
              "      <td>4745.0</td>\n",
              "      <td>3</td>\n",
              "    </tr>\n",
              "    <tr>\n",
              "      <th>3</th>\n",
              "      <td>4</td>\n",
              "      <td>26</td>\n",
              "      <td>b</td>\n",
              "      <td>2</td>\n",
              "      <td>Y</td>\n",
              "      <td>2</td>\n",
              "      <td>radiotherapy</td>\n",
              "      <td>R</td>\n",
              "      <td>D</td>\n",
              "      <td>2.0</td>\n",
              "      <td>31397</td>\n",
              "      <td>7.0</td>\n",
              "      <td>Trauma</td>\n",
              "      <td>Extreme</td>\n",
              "      <td>2</td>\n",
              "      <td>51-60</td>\n",
              "      <td>7272.0</td>\n",
              "      <td>4</td>\n",
              "    </tr>\n",
              "    <tr>\n",
              "      <th>4</th>\n",
              "      <td>5</td>\n",
              "      <td>26</td>\n",
              "      <td>b</td>\n",
              "      <td>2</td>\n",
              "      <td>Y</td>\n",
              "      <td>2</td>\n",
              "      <td>radiotherapy</td>\n",
              "      <td>S</td>\n",
              "      <td>D</td>\n",
              "      <td>2.0</td>\n",
              "      <td>31397</td>\n",
              "      <td>7.0</td>\n",
              "      <td>Trauma</td>\n",
              "      <td>Extreme</td>\n",
              "      <td>2</td>\n",
              "      <td>51-60</td>\n",
              "      <td>5558.0</td>\n",
              "      <td>4</td>\n",
              "    </tr>\n",
              "  </tbody>\n",
              "</table>\n",
              "</div>"
            ],
            "text/plain": [
              "   case_id  Hospital_code Hospital_type_code  ...    Age Admission_Deposit  Stay\n",
              "0        1              8                  c  ...  51-60            4911.0     0\n",
              "1        2              2                  c  ...  51-60            5954.0     4\n",
              "2        3             10                  e  ...  51-60            4745.0     3\n",
              "3        4             26                  b  ...  51-60            7272.0     4\n",
              "4        5             26                  b  ...  51-60            5558.0     4\n",
              "\n",
              "[5 rows x 18 columns]"
            ]
          },
          "metadata": {},
          "execution_count": 19
        }
      ]
    },
    {
      "cell_type": "code",
      "metadata": {
        "id": "Zh1Eg-T2BF6B"
      },
      "source": [
        "#Label Encoding all the columns in Train and test datasets\n",
        "for i in ['Hospital_type_code', 'Hospital_region_code', 'Department',\n",
        "          'Ward_Type', 'Ward_Facility_Code', 'Type of Admission', 'Severity of Illness', 'Age']:\n",
        "    lencoder = preprocessing.LabelEncoder()\n",
        "    data_concat[i] = lencoder.fit_transform(data_concat[i].astype(str))"
      ],
      "execution_count": 20,
      "outputs": []
    },
    {
      "cell_type": "code",
      "metadata": {
        "id": "Zqa9PtzI89Uz"
      },
      "source": [
        "#Spearating Train and Test Datasets\n",
        "train = data_concat[data_concat['Stay'] != -1]\n",
        "test = data_concat[data_concat['Stay'] == -1]"
      ],
      "execution_count": 21,
      "outputs": []
    },
    {
      "cell_type": "markdown",
      "metadata": {
        "id": "MfaPQhDahSNX"
      },
      "source": [
        "## **Feature Engineering**"
      ]
    },
    {
      "cell_type": "code",
      "metadata": {
        "id": "GG9OfFJL9Jap"
      },
      "source": [
        "def get_countid (train, test, cols, name):\n",
        "  temp_train = train.groupby(cols)['case_id'].count().reset_index().rename(columns = {'case_id': name})\n",
        "  temp_test = test.groupby(cols)['case_id'].count().reset_index().rename(columns = {'case_id': name})\n",
        "  train = pd.merge(train, temp_train, how='left', on= cols)\n",
        "  test = pd.merge(test, temp_test, how='left', on= cols)\n",
        "  train[name] = train[name].astype('float')\n",
        "  test[name] = test[name].astype('float')\n",
        "  train[name].fillna(np.median(temp_train[name]), inplace = True)\n",
        "  test[name].fillna(np.median(temp_test[name]), inplace = True)\n",
        "  return train, test"
      ],
      "execution_count": 22,
      "outputs": []
    },
    {
      "cell_type": "code",
      "metadata": {
        "id": "VT_m5Rz79UOR"
      },
      "source": [
        "train, test = get_countid (train, test, ['patientid'],  name = 'CountPatientID')\n",
        "train, test = get_countid(train, test, \n",
        "                                 ['patientid', 'Hospital_region_code'], name = 'countPatientIDHospitalCode')\n",
        "train, test = get_countid(train, test, \n",
        "                                 ['patientid', 'Ward_Facility_Code'], name = 'CountIDPatientWardFacilityCode')"
      ],
      "execution_count": 23,
      "outputs": []
    },
    {
      "cell_type": "code",
      "metadata": {
        "colab": {
          "base_uri": "https://localhost:8080/",
          "height": 490
        },
        "id": "dM66VEvJVPbC",
        "outputId": "a0be832e-5463-43c7-d21f-d519ee0eca3e"
      },
      "source": [
        "train"
      ],
      "execution_count": 24,
      "outputs": [
        {
          "output_type": "execute_result",
          "data": {
            "text/html": [
              "<div>\n",
              "<style scoped>\n",
              "    .dataframe tbody tr th:only-of-type {\n",
              "        vertical-align: middle;\n",
              "    }\n",
              "\n",
              "    .dataframe tbody tr th {\n",
              "        vertical-align: top;\n",
              "    }\n",
              "\n",
              "    .dataframe thead th {\n",
              "        text-align: right;\n",
              "    }\n",
              "</style>\n",
              "<table border=\"1\" class=\"dataframe\">\n",
              "  <thead>\n",
              "    <tr style=\"text-align: right;\">\n",
              "      <th></th>\n",
              "      <th>case_id</th>\n",
              "      <th>Hospital_code</th>\n",
              "      <th>Hospital_type_code</th>\n",
              "      <th>City_Code_Hospital</th>\n",
              "      <th>Hospital_region_code</th>\n",
              "      <th>Available Extra Rooms in Hospital</th>\n",
              "      <th>Department</th>\n",
              "      <th>Ward_Type</th>\n",
              "      <th>Ward_Facility_Code</th>\n",
              "      <th>Bed Grade</th>\n",
              "      <th>patientid</th>\n",
              "      <th>City_Code_Patient</th>\n",
              "      <th>Type of Admission</th>\n",
              "      <th>Severity of Illness</th>\n",
              "      <th>Visitors with Patient</th>\n",
              "      <th>Age</th>\n",
              "      <th>Admission_Deposit</th>\n",
              "      <th>Stay</th>\n",
              "      <th>CountPatientID</th>\n",
              "      <th>countPatientIDHospitalCode</th>\n",
              "      <th>CountIDPatientWardFacilityCode</th>\n",
              "    </tr>\n",
              "  </thead>\n",
              "  <tbody>\n",
              "    <tr>\n",
              "      <th>0</th>\n",
              "      <td>1</td>\n",
              "      <td>8</td>\n",
              "      <td>2</td>\n",
              "      <td>3</td>\n",
              "      <td>2</td>\n",
              "      <td>3</td>\n",
              "      <td>3</td>\n",
              "      <td>2</td>\n",
              "      <td>5</td>\n",
              "      <td>2.0</td>\n",
              "      <td>31397</td>\n",
              "      <td>7.0</td>\n",
              "      <td>0</td>\n",
              "      <td>0</td>\n",
              "      <td>2</td>\n",
              "      <td>5</td>\n",
              "      <td>4911.0</td>\n",
              "      <td>0</td>\n",
              "      <td>14.0</td>\n",
              "      <td>4.0</td>\n",
              "      <td>5.0</td>\n",
              "    </tr>\n",
              "    <tr>\n",
              "      <th>1</th>\n",
              "      <td>2</td>\n",
              "      <td>2</td>\n",
              "      <td>2</td>\n",
              "      <td>5</td>\n",
              "      <td>2</td>\n",
              "      <td>2</td>\n",
              "      <td>3</td>\n",
              "      <td>3</td>\n",
              "      <td>5</td>\n",
              "      <td>2.0</td>\n",
              "      <td>31397</td>\n",
              "      <td>7.0</td>\n",
              "      <td>1</td>\n",
              "      <td>0</td>\n",
              "      <td>2</td>\n",
              "      <td>5</td>\n",
              "      <td>5954.0</td>\n",
              "      <td>4</td>\n",
              "      <td>14.0</td>\n",
              "      <td>4.0</td>\n",
              "      <td>5.0</td>\n",
              "    </tr>\n",
              "    <tr>\n",
              "      <th>2</th>\n",
              "      <td>3</td>\n",
              "      <td>10</td>\n",
              "      <td>4</td>\n",
              "      <td>1</td>\n",
              "      <td>0</td>\n",
              "      <td>2</td>\n",
              "      <td>1</td>\n",
              "      <td>3</td>\n",
              "      <td>4</td>\n",
              "      <td>2.0</td>\n",
              "      <td>31397</td>\n",
              "      <td>7.0</td>\n",
              "      <td>1</td>\n",
              "      <td>0</td>\n",
              "      <td>2</td>\n",
              "      <td>5</td>\n",
              "      <td>4745.0</td>\n",
              "      <td>3</td>\n",
              "      <td>14.0</td>\n",
              "      <td>4.0</td>\n",
              "      <td>2.0</td>\n",
              "    </tr>\n",
              "    <tr>\n",
              "      <th>3</th>\n",
              "      <td>4</td>\n",
              "      <td>26</td>\n",
              "      <td>1</td>\n",
              "      <td>2</td>\n",
              "      <td>1</td>\n",
              "      <td>2</td>\n",
              "      <td>3</td>\n",
              "      <td>2</td>\n",
              "      <td>3</td>\n",
              "      <td>2.0</td>\n",
              "      <td>31397</td>\n",
              "      <td>7.0</td>\n",
              "      <td>1</td>\n",
              "      <td>0</td>\n",
              "      <td>2</td>\n",
              "      <td>5</td>\n",
              "      <td>7272.0</td>\n",
              "      <td>4</td>\n",
              "      <td>14.0</td>\n",
              "      <td>6.0</td>\n",
              "      <td>3.0</td>\n",
              "    </tr>\n",
              "    <tr>\n",
              "      <th>4</th>\n",
              "      <td>5</td>\n",
              "      <td>26</td>\n",
              "      <td>1</td>\n",
              "      <td>2</td>\n",
              "      <td>1</td>\n",
              "      <td>2</td>\n",
              "      <td>3</td>\n",
              "      <td>3</td>\n",
              "      <td>3</td>\n",
              "      <td>2.0</td>\n",
              "      <td>31397</td>\n",
              "      <td>7.0</td>\n",
              "      <td>1</td>\n",
              "      <td>0</td>\n",
              "      <td>2</td>\n",
              "      <td>5</td>\n",
              "      <td>5558.0</td>\n",
              "      <td>4</td>\n",
              "      <td>14.0</td>\n",
              "      <td>6.0</td>\n",
              "      <td>3.0</td>\n",
              "    </tr>\n",
              "    <tr>\n",
              "      <th>...</th>\n",
              "      <td>...</td>\n",
              "      <td>...</td>\n",
              "      <td>...</td>\n",
              "      <td>...</td>\n",
              "      <td>...</td>\n",
              "      <td>...</td>\n",
              "      <td>...</td>\n",
              "      <td>...</td>\n",
              "      <td>...</td>\n",
              "      <td>...</td>\n",
              "      <td>...</td>\n",
              "      <td>...</td>\n",
              "      <td>...</td>\n",
              "      <td>...</td>\n",
              "      <td>...</td>\n",
              "      <td>...</td>\n",
              "      <td>...</td>\n",
              "      <td>...</td>\n",
              "      <td>...</td>\n",
              "      <td>...</td>\n",
              "      <td>...</td>\n",
              "    </tr>\n",
              "    <tr>\n",
              "      <th>318433</th>\n",
              "      <td>318434</td>\n",
              "      <td>6</td>\n",
              "      <td>0</td>\n",
              "      <td>6</td>\n",
              "      <td>0</td>\n",
              "      <td>3</td>\n",
              "      <td>3</td>\n",
              "      <td>1</td>\n",
              "      <td>5</td>\n",
              "      <td>4.0</td>\n",
              "      <td>86499</td>\n",
              "      <td>23.0</td>\n",
              "      <td>0</td>\n",
              "      <td>2</td>\n",
              "      <td>3</td>\n",
              "      <td>4</td>\n",
              "      <td>4144.0</td>\n",
              "      <td>1</td>\n",
              "      <td>1.0</td>\n",
              "      <td>1.0</td>\n",
              "      <td>1.0</td>\n",
              "    </tr>\n",
              "    <tr>\n",
              "      <th>318434</th>\n",
              "      <td>318435</td>\n",
              "      <td>24</td>\n",
              "      <td>0</td>\n",
              "      <td>1</td>\n",
              "      <td>0</td>\n",
              "      <td>2</td>\n",
              "      <td>1</td>\n",
              "      <td>1</td>\n",
              "      <td>4</td>\n",
              "      <td>4.0</td>\n",
              "      <td>325</td>\n",
              "      <td>8.0</td>\n",
              "      <td>2</td>\n",
              "      <td>2</td>\n",
              "      <td>4</td>\n",
              "      <td>8</td>\n",
              "      <td>6699.0</td>\n",
              "      <td>3</td>\n",
              "      <td>1.0</td>\n",
              "      <td>1.0</td>\n",
              "      <td>1.0</td>\n",
              "    </tr>\n",
              "    <tr>\n",
              "      <th>318435</th>\n",
              "      <td>318436</td>\n",
              "      <td>7</td>\n",
              "      <td>0</td>\n",
              "      <td>4</td>\n",
              "      <td>0</td>\n",
              "      <td>3</td>\n",
              "      <td>2</td>\n",
              "      <td>2</td>\n",
              "      <td>5</td>\n",
              "      <td>4.0</td>\n",
              "      <td>125235</td>\n",
              "      <td>10.0</td>\n",
              "      <td>0</td>\n",
              "      <td>1</td>\n",
              "      <td>3</td>\n",
              "      <td>7</td>\n",
              "      <td>4235.0</td>\n",
              "      <td>1</td>\n",
              "      <td>1.0</td>\n",
              "      <td>1.0</td>\n",
              "      <td>1.0</td>\n",
              "    </tr>\n",
              "    <tr>\n",
              "      <th>318436</th>\n",
              "      <td>318437</td>\n",
              "      <td>11</td>\n",
              "      <td>1</td>\n",
              "      <td>2</td>\n",
              "      <td>1</td>\n",
              "      <td>3</td>\n",
              "      <td>1</td>\n",
              "      <td>1</td>\n",
              "      <td>3</td>\n",
              "      <td>3.0</td>\n",
              "      <td>91081</td>\n",
              "      <td>8.0</td>\n",
              "      <td>1</td>\n",
              "      <td>1</td>\n",
              "      <td>5</td>\n",
              "      <td>1</td>\n",
              "      <td>3761.0</td>\n",
              "      <td>1</td>\n",
              "      <td>1.0</td>\n",
              "      <td>1.0</td>\n",
              "      <td>1.0</td>\n",
              "    </tr>\n",
              "    <tr>\n",
              "      <th>318437</th>\n",
              "      <td>318438</td>\n",
              "      <td>19</td>\n",
              "      <td>0</td>\n",
              "      <td>7</td>\n",
              "      <td>1</td>\n",
              "      <td>5</td>\n",
              "      <td>2</td>\n",
              "      <td>1</td>\n",
              "      <td>2</td>\n",
              "      <td>2.0</td>\n",
              "      <td>21641</td>\n",
              "      <td>8.0</td>\n",
              "      <td>0</td>\n",
              "      <td>1</td>\n",
              "      <td>2</td>\n",
              "      <td>1</td>\n",
              "      <td>4752.0</td>\n",
              "      <td>0</td>\n",
              "      <td>1.0</td>\n",
              "      <td>1.0</td>\n",
              "      <td>1.0</td>\n",
              "    </tr>\n",
              "  </tbody>\n",
              "</table>\n",
              "<p>318438 rows × 21 columns</p>\n",
              "</div>"
            ],
            "text/plain": [
              "        case_id  ...  CountIDPatientWardFacilityCode\n",
              "0             1  ...                             5.0\n",
              "1             2  ...                             5.0\n",
              "2             3  ...                             2.0\n",
              "3             4  ...                             3.0\n",
              "4             5  ...                             3.0\n",
              "...         ...  ...                             ...\n",
              "318433   318434  ...                             1.0\n",
              "318434   318435  ...                             1.0\n",
              "318435   318436  ...                             1.0\n",
              "318436   318437  ...                             1.0\n",
              "318437   318438  ...                             1.0\n",
              "\n",
              "[318438 rows x 21 columns]"
            ]
          },
          "metadata": {},
          "execution_count": 24
        }
      ]
    },
    {
      "cell_type": "code",
      "metadata": {
        "id": "2eT9CCHmi2-Z"
      },
      "source": [
        "# Droping duplicate columns\n",
        "test_updated = test.drop(['Stay', 'patientid', 'Hospital_region_code', 'Ward_Facility_Code'], axis =1)\n",
        "train_updated = train.drop(['case_id', 'patientid', 'Hospital_region_code', 'Ward_Facility_Code'], axis =1)"
      ],
      "execution_count": 25,
      "outputs": []
    },
    {
      "cell_type": "markdown",
      "metadata": {
        "id": "t-_MEA69XNPf"
      },
      "source": [
        "Splitting train data for Naive Bayes and XGBoost"
      ]
    },
    {
      "cell_type": "code",
      "metadata": {
        "id": "2Ip29AisVINp"
      },
      "source": [
        " X1 = train_updated.drop('Stay', axis =1)\n",
        "y1 = train_updated['Stay']"
      ],
      "execution_count": 26,
      "outputs": []
    },
    {
      "cell_type": "code",
      "metadata": {
        "id": "0p-NAtvYXKfK"
      },
      "source": [
        "from sklearn.model_selection import train_test_split\n",
        "X_train, X_test, y_train, y_test = train_test_split(X1, y1, test_size =0.20, random_state =100)"
      ],
      "execution_count": 27,
      "outputs": []
    },
    {
      "cell_type": "markdown",
      "metadata": {
        "id": "C3OF3Bw5XaEg"
      },
      "source": [
        "## **XGBoost Model**"
      ]
    },
    {
      "cell_type": "code",
      "metadata": {
        "id": "MtOpWmXYZp0y"
      },
      "source": [
        "import xgboost\n",
        "from sklearn.metrics import accuracy_score"
      ],
      "execution_count": 28,
      "outputs": []
    },
    {
      "cell_type": "code",
      "metadata": {
        "id": "F6qqsJKCZuak"
      },
      "source": [
        "XBG = xgboost.XGBClassifier(max_depth=4, learning_rate=0.1, n_estimators=800,\n",
        "                                  objective='multi:softmax', reg_alpha=0.5, reg_lambda=1.5,\n",
        "                                  booster='gbtree', n_jobs=4, min_child_weight=2, base_score= 0.75)"
      ],
      "execution_count": 29,
      "outputs": []
    },
    {
      "cell_type": "code",
      "metadata": {
        "id": "g8K6p6pWZ3kf"
      },
      "source": [
        "XBG_Classifier = XBG.fit(X_train, y_train)"
      ],
      "execution_count": 30,
      "outputs": []
    },
    {
      "cell_type": "code",
      "metadata": {
        "id": "QewNZ22NgFBf"
      },
      "source": [
        "XGB_Predict = XBG_Classifier.predict(X_test)"
      ],
      "execution_count": 31,
      "outputs": []
    },
    {
      "cell_type": "code",
      "metadata": {
        "colab": {
          "base_uri": "https://localhost:8080/"
        },
        "id": "8IC6yoirgzXa",
        "outputId": "fd308d7e-5ee0-4c6f-d831-ad5f166865e4"
      },
      "source": [
        "Accuracy1 = accuracy_score(XGB_Predict,y_test)\n",
        "print(\"XGBoost Model Accuracy Score:\", Accuracy1*100)"
      ],
      "execution_count": 32,
      "outputs": [
        {
          "output_type": "stream",
          "name": "stdout",
          "text": [
            "XGBoost Model Accuracy Score: 43.047355859816605\n"
          ]
        }
      ]
    },
    {
      "cell_type": "markdown",
      "metadata": {
        "id": "ZEsw5LLShbTR"
      },
      "source": [
        "## **Naive Bayes Model**"
      ]
    },
    {
      "cell_type": "code",
      "metadata": {
        "id": "rrVSVYbOhQSC"
      },
      "source": [
        "from sklearn.naive_bayes import GaussianNB"
      ],
      "execution_count": 33,
      "outputs": []
    },
    {
      "cell_type": "code",
      "metadata": {
        "id": "mYrgLfcdh3sA"
      },
      "source": [
        "target = y_train.values\n",
        "features = X_train.values"
      ],
      "execution_count": 34,
      "outputs": []
    },
    {
      "cell_type": "code",
      "metadata": {
        "id": "dzl6QcCbL5yH"
      },
      "source": [
        "classifier_nb = GaussianNB()\n",
        "model_nb = classifier_nb.fit(features, target)"
      ],
      "execution_count": 35,
      "outputs": []
    },
    {
      "cell_type": "code",
      "metadata": {
        "id": "12tg71CXiPiv"
      },
      "source": [
        "NaiveBayes = classifier_nb.fit(features, target)"
      ],
      "execution_count": 36,
      "outputs": []
    },
    {
      "cell_type": "code",
      "metadata": {
        "id": "ZFyUzeENh_vm"
      },
      "source": [
        "NaiveBayes_Predict = model_nb.predict(X_test)"
      ],
      "execution_count": 37,
      "outputs": []
    },
    {
      "cell_type": "code",
      "metadata": {
        "colab": {
          "base_uri": "https://localhost:8080/"
        },
        "id": "uMNZKgXsiFX7",
        "outputId": "9bcc9e55-1313-4058-b021-4c0d5b007c26"
      },
      "source": [
        "Accuracy2 = accuracy_score(NaiveBayes_Predict,y_test)\n",
        "print(\"Acurracy Score for Naive Bayes Model:\", Accuracy2*100)"
      ],
      "execution_count": 38,
      "outputs": [
        {
          "output_type": "stream",
          "name": "stdout",
          "text": [
            "Acurracy Score for Naive Bayes Model: 34.55439015199096\n"
          ]
        }
      ]
    },
    {
      "cell_type": "markdown",
      "metadata": {
        "id": "U8wMJDMOIn7g"
      },
      "source": [
        "## **Predictions & Results**"
      ]
    },
    {
      "cell_type": "markdown",
      "metadata": {
        "id": "7-kLniyIOebv"
      },
      "source": [
        ">**XGBoost**"
      ]
    },
    {
      "cell_type": "code",
      "metadata": {
        "id": "7fGCrS_vOt0_"
      },
      "source": [
        "XBG_prediction = XBG_Classifier.predict(test_updated.iloc[:,1:])"
      ],
      "execution_count": 51,
      "outputs": []
    },
    {
      "cell_type": "code",
      "metadata": {
        "id": "vuGxlSLldMvo"
      },
      "source": [
        "XBG_output = pd.DataFrame(pred_xgb, columns=['Stay'])\n",
        "XBG_output['case_id'] = test_updated['case_id']\n",
        "XBG_output = XBG_output[['case_id', 'Stay']]"
      ],
      "execution_count": 52,
      "outputs": []
    },
    {
      "cell_type": "code",
      "metadata": {
        "id": "QwIgUmh3Owhv",
        "colab": {
          "base_uri": "https://localhost:8080/",
          "height": 204
        },
        "outputId": "8f9968c4-7b7d-4e42-9092-64eaa2b73167"
      },
      "source": [
        "XBG_output['Stay'] = result_xgb['Stay'].replace({0:'0-10', 1: '11-20', 2: '21-30', 3:'31-40', 4: '41-50', 5: '51-60', 6: '61-70', 7: '71-80', 8: '81-90', 9: '91-100', 10: 'More than 100 Days'})\n",
        "XBG_output.head() "
      ],
      "execution_count": 43,
      "outputs": [
        {
          "output_type": "execute_result",
          "data": {
            "text/html": [
              "<div>\n",
              "<style scoped>\n",
              "    .dataframe tbody tr th:only-of-type {\n",
              "        vertical-align: middle;\n",
              "    }\n",
              "\n",
              "    .dataframe tbody tr th {\n",
              "        vertical-align: top;\n",
              "    }\n",
              "\n",
              "    .dataframe thead th {\n",
              "        text-align: right;\n",
              "    }\n",
              "</style>\n",
              "<table border=\"1\" class=\"dataframe\">\n",
              "  <thead>\n",
              "    <tr style=\"text-align: right;\">\n",
              "      <th></th>\n",
              "      <th>case_id</th>\n",
              "      <th>Stay</th>\n",
              "    </tr>\n",
              "  </thead>\n",
              "  <tbody>\n",
              "    <tr>\n",
              "      <th>0</th>\n",
              "      <td>318439</td>\n",
              "      <td>0-10</td>\n",
              "    </tr>\n",
              "    <tr>\n",
              "      <th>1</th>\n",
              "      <td>318440</td>\n",
              "      <td>51-60</td>\n",
              "    </tr>\n",
              "    <tr>\n",
              "      <th>2</th>\n",
              "      <td>318441</td>\n",
              "      <td>21-30</td>\n",
              "    </tr>\n",
              "    <tr>\n",
              "      <th>3</th>\n",
              "      <td>318442</td>\n",
              "      <td>21-30</td>\n",
              "    </tr>\n",
              "    <tr>\n",
              "      <th>4</th>\n",
              "      <td>318443</td>\n",
              "      <td>51-60</td>\n",
              "    </tr>\n",
              "  </tbody>\n",
              "</table>\n",
              "</div>"
            ],
            "text/plain": [
              "   case_id   Stay\n",
              "0   318439   0-10\n",
              "1   318440  51-60\n",
              "2   318441  21-30\n",
              "3   318442  21-30\n",
              "4   318443  51-60"
            ]
          },
          "metadata": {},
          "execution_count": 43
        }
      ]
    },
    {
      "cell_type": "code",
      "metadata": {
        "id": "thlAW94ePy9V",
        "colab": {
          "base_uri": "https://localhost:8080/"
        },
        "outputId": "b804ef12-ed91-456f-82e7-2967006fc1f2"
      },
      "source": [
        "print(XBG_output.groupby('Stay')['case_id'].nunique())"
      ],
      "execution_count": 60,
      "outputs": [
        {
          "output_type": "stream",
          "name": "stdout",
          "text": [
            "Stay\n",
            "0      4373\n",
            "1     39337\n",
            "2     58261\n",
            "3     12100\n",
            "4        61\n",
            "5     19217\n",
            "6        16\n",
            "7       302\n",
            "8      1099\n",
            "9        78\n",
            "10     2213\n",
            "Name: case_id, dtype: int64\n"
          ]
        }
      ]
    },
    {
      "cell_type": "markdown",
      "metadata": {
        "id": "Nv-H3tX_PCQq"
      },
      "source": [
        "> **Naive Bayes**"
      ]
    },
    {
      "cell_type": "code",
      "metadata": {
        "id": "n7iKk5n9IhDz"
      },
      "source": [
        "NaiveBayes_Prediction = classifier_nb.predict(test_updated.iloc[:,1:])"
      ],
      "execution_count": 54,
      "outputs": []
    },
    {
      "cell_type": "code",
      "metadata": {
        "id": "jfduYMfcfRYA"
      },
      "source": [
        "NaiveBayes_output = pd.DataFrame(pred_nb, columns=['Stay'])\n",
        "NaiveBayes_output['case_id'] = test_updated['case_id']\n",
        "NaiveBayes_output = NaiveBayes_output[['case_id', 'Stay']]"
      ],
      "execution_count": 55,
      "outputs": []
    },
    {
      "cell_type": "code",
      "metadata": {
        "id": "2OzZ2ztnOUWn",
        "colab": {
          "base_uri": "https://localhost:8080/",
          "height": 204
        },
        "outputId": "be371e98-6c5c-4b01-ccb7-f86f82f9bc0b"
      },
      "source": [
        "NaiveBayes_output['Stay'] = NaiveBayes_output['Stay'].replace({0:'0-10', 1: '11-20', 2: '21-30', 3:'31-40', 4: '41-50', 5: '51-60', 6: '61-70', 7: '71-80', 8: '81-90', 9: '91-100', 10: 'More than 100 Days'})\n",
        "NaiveBayes_output.head()"
      ],
      "execution_count": 58,
      "outputs": [
        {
          "output_type": "execute_result",
          "data": {
            "text/html": [
              "<div>\n",
              "<style scoped>\n",
              "    .dataframe tbody tr th:only-of-type {\n",
              "        vertical-align: middle;\n",
              "    }\n",
              "\n",
              "    .dataframe tbody tr th {\n",
              "        vertical-align: top;\n",
              "    }\n",
              "\n",
              "    .dataframe thead th {\n",
              "        text-align: right;\n",
              "    }\n",
              "</style>\n",
              "<table border=\"1\" class=\"dataframe\">\n",
              "  <thead>\n",
              "    <tr style=\"text-align: right;\">\n",
              "      <th></th>\n",
              "      <th>case_id</th>\n",
              "      <th>Stay</th>\n",
              "    </tr>\n",
              "  </thead>\n",
              "  <tbody>\n",
              "    <tr>\n",
              "      <th>0</th>\n",
              "      <td>318439</td>\n",
              "      <td>21-30</td>\n",
              "    </tr>\n",
              "    <tr>\n",
              "      <th>1</th>\n",
              "      <td>318440</td>\n",
              "      <td>51-60</td>\n",
              "    </tr>\n",
              "    <tr>\n",
              "      <th>2</th>\n",
              "      <td>318441</td>\n",
              "      <td>21-30</td>\n",
              "    </tr>\n",
              "    <tr>\n",
              "      <th>3</th>\n",
              "      <td>318442</td>\n",
              "      <td>21-30</td>\n",
              "    </tr>\n",
              "    <tr>\n",
              "      <th>4</th>\n",
              "      <td>318443</td>\n",
              "      <td>31-40</td>\n",
              "    </tr>\n",
              "  </tbody>\n",
              "</table>\n",
              "</div>"
            ],
            "text/plain": [
              "   case_id   Stay\n",
              "0   318439  21-30\n",
              "1   318440  51-60\n",
              "2   318441  21-30\n",
              "3   318442  21-30\n",
              "4   318443  31-40"
            ]
          },
          "metadata": {},
          "execution_count": 58
        }
      ]
    },
    {
      "cell_type": "code",
      "metadata": {
        "id": "2NzqgmsOQB5R",
        "colab": {
          "base_uri": "https://localhost:8080/"
        },
        "outputId": "4586ba8e-76a3-4ed1-bba8-2e3636badf39"
      },
      "source": [
        "print(NaiveBayes_output.groupby('Stay')['case_id'].nunique())"
      ],
      "execution_count": 59,
      "outputs": [
        {
          "output_type": "stream",
          "name": "stdout",
          "text": [
            "Stay\n",
            "0-10                   2598\n",
            "11-20                 26827\n",
            "21-30                 72206\n",
            "31-40                 15639\n",
            "41-50                   469\n",
            "51-60                 13651\n",
            "61-70                    92\n",
            "71-80                   955\n",
            "81-90                   296\n",
            "91-100                    2\n",
            "More than 100 Days     4322\n",
            "Name: case_id, dtype: int64\n"
          ]
        }
      ]
    },
    {
      "cell_type": "markdown",
      "metadata": {
        "id": "toYwzgv7iQ-J"
      },
      "source": [
        "## **Conclusion**\n",
        "\n",
        "> \n",
        "The aim is to predict a patient's duration of stay at the time of admission allows hospitals to better allocate resources and manage their patients. Identifying factors associated with Length of Stay in order to predict and manage the number of days patients stay in the hospital could aid hospitals in resource management and the creation of innovative treatment regimens. Using patient-level and hospital-level data, numerous variables that correlate with Length of Stay were investigated in this project."
      ]
    }
  ]
}